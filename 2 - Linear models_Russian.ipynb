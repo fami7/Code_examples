{
 "cells": [
  {
   "cell_type": "markdown",
   "metadata": {},
   "source": [
    "# House Prices: Advanced Regression Techniques"
   ]
  },
  {
   "cell_type": "markdown",
   "metadata": {},
   "source": [
    "## Линейные модели"
   ]
  },
  {
   "cell_type": "markdown",
   "metadata": {},
   "source": [
    "Необходимо предсказать цену недвижимости по имеющимся описаниям домов. Это задача из конкурса Kaggle, с условиями и описанием признаков можно ознакомиться здесь:\n",
    "\n",
    "https://www.kaggle.com/c/house-prices-advanced-regression-techniques\n",
    "\n",
    "Во второй части решения будут использоваться линейные модели.\n",
    "\n",
    "* Подбор параметров будем осуществлять на кросс-валидации по 3-м блокам и с помощью контроля над переобучением по отложенной выборке.\n",
    "* Выбор лучшей модели - по отложенной выборке.\n",
    "* Метрика качества - RMSE над логарифмом целевой переменной.\n",
    "* В качестве кодирования категориальных признаков будем использовать one-hot encoding (замену на бинарные признаки).\n",
    "* Числовые признаки будем масштабировать, т.к. будем использовать L1 и L2 регуляризацию.\n",
    "* Обработка пропущенных значений: 0 для числовых признаков, новое значение - для категориальных."
   ]
  },
  {
   "cell_type": "code",
   "execution_count": 32,
   "metadata": {
    "collapsed": false
   },
   "outputs": [],
   "source": [
    "import pandas as pd\n",
    "import numpy as np\n",
    "from sklearn.cross_validation import train_test_split, cross_val_score\n",
    "from sklearn.linear_model import Ridge, Lasso\n",
    "from sklearn.metrics import mean_squared_error, make_scorer\n",
    "\n",
    "from sklearn.feature_extraction import DictVectorizer as DV\n",
    "from sklearn.preprocessing import StandardScaler\n",
    "\n",
    "import seaborn as sns\n",
    "from matplotlib import pylab as plt\n",
    "%matplotlib inline"
   ]
  },
  {
   "cell_type": "markdown",
   "metadata": {},
   "source": [
    "## Загрузка данных"
   ]
  },
  {
   "cell_type": "code",
   "execution_count": 2,
   "metadata": {
    "collapsed": false
   },
   "outputs": [
    {
     "data": {
      "text/html": [
       "<div>\n",
       "<table border=\"1\" class=\"dataframe\">\n",
       "  <thead>\n",
       "    <tr style=\"text-align: right;\">\n",
       "      <th></th>\n",
       "      <th>MSSubClass</th>\n",
       "      <th>MSZoning</th>\n",
       "      <th>LotFrontage</th>\n",
       "      <th>LotArea</th>\n",
       "      <th>Street</th>\n",
       "      <th>Alley</th>\n",
       "      <th>LotShape</th>\n",
       "      <th>LandContour</th>\n",
       "      <th>Utilities</th>\n",
       "      <th>LotConfig</th>\n",
       "      <th>...</th>\n",
       "      <th>PoolArea</th>\n",
       "      <th>PoolQC</th>\n",
       "      <th>Fence</th>\n",
       "      <th>MiscFeature</th>\n",
       "      <th>MiscVal</th>\n",
       "      <th>MoSold</th>\n",
       "      <th>YrSold</th>\n",
       "      <th>SaleType</th>\n",
       "      <th>SaleCondition</th>\n",
       "      <th>SalePrice</th>\n",
       "    </tr>\n",
       "    <tr>\n",
       "      <th>Id</th>\n",
       "      <th></th>\n",
       "      <th></th>\n",
       "      <th></th>\n",
       "      <th></th>\n",
       "      <th></th>\n",
       "      <th></th>\n",
       "      <th></th>\n",
       "      <th></th>\n",
       "      <th></th>\n",
       "      <th></th>\n",
       "      <th></th>\n",
       "      <th></th>\n",
       "      <th></th>\n",
       "      <th></th>\n",
       "      <th></th>\n",
       "      <th></th>\n",
       "      <th></th>\n",
       "      <th></th>\n",
       "      <th></th>\n",
       "      <th></th>\n",
       "      <th></th>\n",
       "    </tr>\n",
       "  </thead>\n",
       "  <tbody>\n",
       "    <tr>\n",
       "      <th>1</th>\n",
       "      <td>60</td>\n",
       "      <td>RL</td>\n",
       "      <td>65.0</td>\n",
       "      <td>8450</td>\n",
       "      <td>Pave</td>\n",
       "      <td>NaN</td>\n",
       "      <td>Reg</td>\n",
       "      <td>Lvl</td>\n",
       "      <td>AllPub</td>\n",
       "      <td>Inside</td>\n",
       "      <td>...</td>\n",
       "      <td>0</td>\n",
       "      <td>NaN</td>\n",
       "      <td>NaN</td>\n",
       "      <td>NaN</td>\n",
       "      <td>0</td>\n",
       "      <td>2</td>\n",
       "      <td>2008</td>\n",
       "      <td>WD</td>\n",
       "      <td>Normal</td>\n",
       "      <td>208500</td>\n",
       "    </tr>\n",
       "    <tr>\n",
       "      <th>2</th>\n",
       "      <td>20</td>\n",
       "      <td>RL</td>\n",
       "      <td>80.0</td>\n",
       "      <td>9600</td>\n",
       "      <td>Pave</td>\n",
       "      <td>NaN</td>\n",
       "      <td>Reg</td>\n",
       "      <td>Lvl</td>\n",
       "      <td>AllPub</td>\n",
       "      <td>FR2</td>\n",
       "      <td>...</td>\n",
       "      <td>0</td>\n",
       "      <td>NaN</td>\n",
       "      <td>NaN</td>\n",
       "      <td>NaN</td>\n",
       "      <td>0</td>\n",
       "      <td>5</td>\n",
       "      <td>2007</td>\n",
       "      <td>WD</td>\n",
       "      <td>Normal</td>\n",
       "      <td>181500</td>\n",
       "    </tr>\n",
       "  </tbody>\n",
       "</table>\n",
       "<p>2 rows × 80 columns</p>\n",
       "</div>"
      ],
      "text/plain": [
       "    MSSubClass MSZoning  LotFrontage  LotArea Street Alley LotShape  \\\n",
       "Id                                                                    \n",
       "1           60       RL         65.0     8450   Pave   NaN      Reg   \n",
       "2           20       RL         80.0     9600   Pave   NaN      Reg   \n",
       "\n",
       "   LandContour Utilities LotConfig    ...     PoolArea PoolQC Fence  \\\n",
       "Id                                    ...                             \n",
       "1          Lvl    AllPub    Inside    ...            0    NaN   NaN   \n",
       "2          Lvl    AllPub       FR2    ...            0    NaN   NaN   \n",
       "\n",
       "   MiscFeature MiscVal MoSold  YrSold  SaleType  SaleCondition  SalePrice  \n",
       "Id                                                                         \n",
       "1          NaN       0      2    2008        WD         Normal     208500  \n",
       "2          NaN       0      5    2007        WD         Normal     181500  \n",
       "\n",
       "[2 rows x 80 columns]"
      ]
     },
     "execution_count": 2,
     "metadata": {},
     "output_type": "execute_result"
    }
   ],
   "source": [
    "data_train = pd.read_csv('train.csv', index_col = 'Id')\n",
    "data_train[:2]"
   ]
  },
  {
   "cell_type": "markdown",
   "metadata": {},
   "source": [
    "## Предобработка данных"
   ]
  },
  {
   "cell_type": "markdown",
   "metadata": {},
   "source": [
    "#### Целевая переменная"
   ]
  },
  {
   "cell_type": "markdown",
   "metadata": {},
   "source": [
    "Рассмотрим целевую переменную. В качестве метрики для оценки качества алгоритмов в конкурсе используется RMSE над логарифмами цен. Это делается для того, чтобы ошибки при определении цены дорогой и дешевой недвижимости имели одинаковый вес. Поэтому мы также будем обучать модели на логарифме от исходной целевой переменной."
   ]
  },
  {
   "cell_type": "code",
   "execution_count": 3,
   "metadata": {
    "collapsed": false
   },
   "outputs": [
    {
     "data": {
      "text/plain": [
       "<matplotlib.text.Text at 0x7fb4c7316390>"
      ]
     },
     "execution_count": 3,
     "metadata": {},
     "output_type": "execute_result"
    },
    {
     "data": {
      "image/png": "[encoded data removed]",
      "text/plain": [
       "<matplotlib.figure.Figure at 0x7fb4c748d278>"
      ]
     },
     "metadata": {},
     "output_type": "display_data"
    }
   ],
   "source": [
    "y = np.log(data_train['SalePrice'])\n",
    "\n",
    "plt.figure(figsize = (15, 5))\n",
    "plt.subplot(1, 2, 1)\n",
    "sns.distplot(data_train['SalePrice'], bins = 50)\n",
    "plt.title('Original Data')\n",
    "plt.xlabel('Sales Price')\n",
    "\n",
    "plt.subplot(1, 2, 2)\n",
    "sns.distplot(y, bins = 50, color = 'g')\n",
    "plt.title('Natural Log of Data')\n",
    "plt.xlabel('Natural Log of Sales Price')"
   ]
  },
  {
   "cell_type": "markdown",
   "metadata": {},
   "source": [
    "#### Корреляция между признаками и целевой переменной"
   ]
  },
  {
   "cell_type": "markdown",
   "metadata": {},
   "source": [
    "Рассмотрим теперь матрицу объекты - признаки. Для начала разделим все признаки на два типа: числовые и категориальные, поскольку мы будем обрабатывать их по-разному."
   ]
  },
  {
   "cell_type": "code",
   "execution_count": 4,
   "metadata": {
    "collapsed": false
   },
   "outputs": [],
   "source": [
    "numeric_cols = []\n",
    "categorical_cols = []\n",
    "for column in data_train.drop('SalePrice', axis = 1, inplace = False).columns.values:\n",
    "    if data_train[column].dtype == 'object':\n",
    "        categorical_cols.append(column)\n",
    "    else:\n",
    "        numeric_cols.append(column)\n",
    "\n",
    "# Некоторые признаки, имеющие в качестве значений числа, тем не менее являются\n",
    "# категориальными. Использование их как числовых ведет к ухудшению результата\n",
    "for feature in ['MSSubClass', 'MoSold']:\n",
    "    numeric_cols.remove(feature)\n",
    "    categorical_cols.append(feature)"
   ]
  },
  {
   "cell_type": "code",
   "execution_count": 5,
   "metadata": {
    "collapsed": false
   },
   "outputs": [
    {
     "data": {
      "text/plain": [
       "<matplotlib.axes._subplots.AxesSubplot at 0x7fb4c37d82e8>"
      ]
     },
     "execution_count": 5,
     "metadata": {},
     "output_type": "execute_result"
    },
    {
     "data": {
      "image/png": "[encoded data removed]",
      "text/plain": [
       "<matplotlib.figure.Figure at 0x7fb4c748d860>"
      ]
     },
     "metadata": {},
     "output_type": "display_data"
    }
   ],
   "source": [
    "plt.figure(figsize = (10,10))\n",
    "sns.heatmap(data_train[numeric_cols + ['SalePrice']].corr(), square=True)"
   ]
  },
  {
   "cell_type": "markdown",
   "metadata": {},
   "source": [
    "Видно, что некоторые признаки линейно зависимы. Наиболее сильная зависимость наблюдается для:\n",
    "* 1stFlrSF и TotalBsmtSF - площадь подвала и первого этажа коррелируют, это вполне логично;\n",
    "* GarageArea и GarageCars - чем больше машиномест в гараже, тем больше должна быть его площадь;\n",
    "* GarageYrBlt и YearBuilt - гараж обычно строился одновременно с домом.\n",
    "\n",
    "Также есть некоторые признаки, которые заметно коррелируют с целевой переменной. Это:\n",
    "* OverallQual - чем больше общая оценка качества материалов и готовности дома, тем выше цена;\n",
    "* GrLivArea - цену часто даже указывают на единицу площади, так что чем больше жилая площадь, тем больше цена;\n",
    "* TotalBsmtSF, 1stFlrSF, GarageCars, GarageArea - эти признаки также характеризуют площадь, в том числе нежилую, поэтому тоже коррелируют с ценой.\n",
    "\n",
    "Таким образом, здесь, скорее всего, будут хорошо работать линейные модели. Также стоит попробовать использовать L1 - регуляризацию."
   ]
  },
  {
   "cell_type": "markdown",
   "metadata": {},
   "source": [
    "#### Заполнение пропусков"
   ]
  },
  {
   "cell_type": "markdown",
   "metadata": {},
   "source": [
    "Посмотрим, сколько и в каких колонках есть пропуски:"
   ]
  },
  {
   "cell_type": "code",
   "execution_count": 6,
   "metadata": {
    "collapsed": false
   },
   "outputs": [
    {
     "name": "stdout",
     "output_type": "stream",
     "text": [
      "Number of missing values in columns:\n",
      "LotFrontage :  259\n",
      "Alley :  1369\n",
      "MasVnrType :  8\n",
      "MasVnrArea :  8\n",
      "BsmtQual :  37\n",
      "BsmtCond :  37\n",
      "BsmtExposure :  38\n",
      "BsmtFinType1 :  37\n",
      "BsmtFinType2 :  38\n",
      "Electrical :  1\n",
      "FireplaceQu :  690\n",
      "GarageType :  81\n",
      "GarageYrBlt :  81\n",
      "GarageFinish :  81\n",
      "GarageQual :  81\n",
      "GarageCond :  81\n",
      "PoolQC :  1453\n",
      "Fence :  1179\n",
      "MiscFeature :  1406\n"
     ]
    }
   ],
   "source": [
    "print('Number of missing values in columns:')\n",
    "for i in range(0, len(data_train.columns)):\n",
    "    if data_train.ix[:, i].isnull().sum() != 0:\n",
    "        print (data_train.columns[i], ': ', data_train.ix[:, i].isnull().sum())"
   ]
  },
  {
   "cell_type": "markdown",
   "metadata": {},
   "source": [
    "Необходимо отметить, что для многих признаков nan - это отдельное значение. Например, nan в GarageType и других признаках, описывающих состояние гаража, означает, что гаража вообще нет. В основном такое правило соблюдается для категориальных и порядковых признаков. Поэтому мы будем заменять пропуски новой категорией nan."
   ]
  },
  {
   "cell_type": "code",
   "execution_count": 7,
   "metadata": {
    "collapsed": false
   },
   "outputs": [
    {
     "data": {
      "text/plain": [
       "False"
      ]
     },
     "execution_count": 7,
     "metadata": {},
     "output_type": "execute_result"
    }
   ],
   "source": [
    "data_train[categorical_cols].fillna('nan')\n",
    "X_cat = pd.DataFrame(data_train[categorical_cols].applymap(str))\n",
    "X_cat.isnull().values.any()"
   ]
  },
  {
   "cell_type": "markdown",
   "metadata": {},
   "source": [
    "Для числовых признаков лучше заменить пропуски на 0, т.к. в линейных моделях они не будут влиять на результат."
   ]
  },
  {
   "cell_type": "code",
   "execution_count": 8,
   "metadata": {
    "collapsed": false
   },
   "outputs": [
    {
     "data": {
      "text/plain": [
       "False"
      ]
     },
     "execution_count": 8,
     "metadata": {},
     "output_type": "execute_result"
    }
   ],
   "source": [
    "X_num = pd.DataFrame(columns = numeric_cols)\n",
    "for i in range(0, len(data_train[numeric_cols].columns)):\n",
    "    X_num.ix[:, i] = data_train[numeric_cols].ix[:, i].fillna(0)\n",
    "X_num.isnull().values.any()"
   ]
  },
  {
   "cell_type": "markdown",
   "metadata": {},
   "source": [
    "#### Кодирование категориальных признаков"
   ]
  },
  {
   "cell_type": "markdown",
   "metadata": {},
   "source": [
    "Мы будем использовать one-hot encoding."
   ]
  },
  {
   "cell_type": "code",
   "execution_count": 9,
   "metadata": {
    "collapsed": true
   },
   "outputs": [],
   "source": [
    "encoder = DV(sparse = False)\n",
    "X_cat_encoded = encoder.fit_transform(X_cat.T.to_dict().values())"
   ]
  },
  {
   "cell_type": "markdown",
   "metadata": {},
   "source": [
    "#### Формирование отложенной выборки"
   ]
  },
  {
   "cell_type": "code",
   "execution_count": 10,
   "metadata": {
    "collapsed": true
   },
   "outputs": [],
   "source": [
    "X_num_train, X_num_test, y_train, y_test = train_test_split(X_num, y, test_size = 0.3, random_state = 0)\n",
    "X_cat_train, X_cat_test = train_test_split(X_cat_encoded, test_size = 0.3, random_state = 0)"
   ]
  },
  {
   "cell_type": "markdown",
   "metadata": {},
   "source": [
    "#### Масштабирование числовых признаков"
   ]
  },
  {
   "cell_type": "markdown",
   "metadata": {},
   "source": [
    "Поскольку мы будем использовать регуляризацию, полезно отмасштабировать признаки, несмотря на то, что это - задача регрессии."
   ]
  },
  {
   "cell_type": "code",
   "execution_count": 11,
   "metadata": {
    "collapsed": false
   },
   "outputs": [],
   "source": [
    "scaler = StandardScaler()\n",
    "X_num_train_scaled = scaler.fit_transform(X_num_train, y_train)\n",
    "X_num_test_scaled = scaler.transform(X_num_test)"
   ]
  },
  {
   "cell_type": "markdown",
   "metadata": {},
   "source": [
    "#### Формирование итоговых обучающей и тестовой выборки"
   ]
  },
  {
   "cell_type": "code",
   "execution_count": 12,
   "metadata": {
    "collapsed": false
   },
   "outputs": [],
   "source": [
    "X_train = np.hstack([X_num_train_scaled, X_cat_train])\n",
    "X_test = np.hstack([X_num_test_scaled, X_cat_test])"
   ]
  },
  {
   "cell_type": "markdown",
   "metadata": {},
   "source": [
    "## Обучение моделей"
   ]
  },
  {
   "cell_type": "markdown",
   "metadata": {},
   "source": [
    "#### Метрика"
   ]
  },
  {
   "cell_type": "code",
   "execution_count": 13,
   "metadata": {
    "collapsed": true
   },
   "outputs": [],
   "source": [
    "# Scorer будет использоваться для оценки качества на кросс-валидации\n",
    "def score_func(y_test, y_pred):\n",
    "    return np.sqrt(mean_squared_error(y_test, y_pred))\n",
    "\n",
    "scorer = make_scorer(score_func, greater_is_better = False)"
   ]
  },
  {
   "cell_type": "markdown",
   "metadata": {},
   "source": [
    "### Ridge"
   ]
  },
  {
   "cell_type": "markdown",
   "metadata": {},
   "source": [
    "Будем подбирать коэффициент для L2 регуляризатора, оценивая качество на обучающей выборке по кросс-валидации и контролируя переобучение с помощью отложенной выборки. Результаты после нескольких экспериментов:"
   ]
  },
  {
   "cell_type": "code",
   "execution_count": 14,
   "metadata": {
    "collapsed": false
   },
   "outputs": [
    {
     "name": "stdout",
     "output_type": "stream",
     "text": [
      "CPU times: user 43.6 s, sys: 15.1 s, total: 58.7 s\n",
      "Wall time: 44.9 s\n"
     ]
    },
    {
     "data": {
      "image/png": "[encoded data removed]",
      "text/plain": [
       "<matplotlib.figure.Figure at 0x7fb4fcb57208>"
      ]
     },
     "metadata": {},
     "output_type": "display_data"
    }
   ],
   "source": [
    "%%time\n",
    "alphas = np.arange(1, 50, 1)\n",
    "scores_train = []\n",
    "scores_test = []\n",
    "    \n",
    "for alpha in alphas:\n",
    "    model = Ridge(alpha = alpha, random_state = 0)\n",
    "    scores_train.append(-cross_val_score(model, X_train, y_train, cv = 3, scoring = scorer).mean())\n",
    "    \n",
    "    model.fit(X_train, y_train)\n",
    "    scores_test.append(score_func(y_test, model.predict(X_test)))\n",
    "    \n",
    "plt.plot(alphas, scores_train, color = 'b', label = 'score_train')\n",
    "plt.plot(alphas, scores_test, color = 'r', label = 'score_test')\n",
    "plt.xlabel('alpha')\n",
    "plt.ylabel('RMSE')\n",
    "plt.title('Ridge')\n",
    "plt.legend(loc = 'best')"
   ]
  },
  {
   "cell_type": "code",
   "execution_count": 15,
   "metadata": {
    "collapsed": false
   },
   "outputs": [
    {
     "name": "stdout",
     "output_type": "stream",
     "text": [
      "The best alpha for train sample:  17\n",
      "The best alpha for test sample:  19\n"
     ]
    }
   ],
   "source": [
    "print ('The best alpha for train sample: ', scores_train.index(min(scores_train)) + 1)\n",
    "print ('The best alpha for test sample: ', scores_test.index(min(scores_test)) + 1)"
   ]
  },
  {
   "cell_type": "markdown",
   "metadata": {},
   "source": [
    "Выберем alpha = 18 для Ridge. Это дает следующие оценки на обучающей и тестовой выборке:"
   ]
  },
  {
   "cell_type": "code",
   "execution_count": 16,
   "metadata": {
    "collapsed": false
   },
   "outputs": [
    {
     "name": "stdout",
     "output_type": "stream",
     "text": [
      "Final score for Ridge on train sample:  0.132753336258\n",
      "Final score for Ridge on test sample:  0.160351790872\n"
     ]
    }
   ],
   "source": [
    "alpha_Ridge = 18\n",
    "print('Final score for Ridge on train sample: ', scores_train[alpha_Ridge - 1])\n",
    "print('Final score for Ridge on test sample: ', scores_test[alpha_Ridge - 1])"
   ]
  },
  {
   "cell_type": "code",
   "execution_count": 17,
   "metadata": {
    "collapsed": false
   },
   "outputs": [
    {
     "data": {
      "text/plain": [
       "<matplotlib.text.Text at 0x7fb4c35cf2b0>"
      ]
     },
     "execution_count": 17,
     "metadata": {},
     "output_type": "execute_result"
    },
    {
     "data": {
      "image/png": "[encoded data removed]",
      "text/plain": [
       "<matplotlib.figure.Figure at 0x7fb4d72d26d8>"
      ]
     },
     "metadata": {},
     "output_type": "display_data"
    }
   ],
   "source": [
    "Ridge_best = Ridge(alpha = alpha_Ridge, random_state = 0)\n",
    "Ridge_best.fit(X_train, y_train)\n",
    "\n",
    "plt.scatter(y_test, Ridge_best.predict(X_test))\n",
    "plt.xlabel('y_test')\n",
    "plt.ylabel('y_pred')\n",
    "plt.title('Scatter plot of test target values and Ridge predictions')"
   ]
  },
  {
   "cell_type": "markdown",
   "metadata": {},
   "source": [
    "### Lasso"
   ]
  },
  {
   "cell_type": "markdown",
   "metadata": {},
   "source": [
    "Теперь попробуем L1 - регуляризацию. Подберем коэффициент для alpha аналогичным образом:"
   ]
  },
  {
   "cell_type": "code",
   "execution_count": 18,
   "metadata": {
    "collapsed": false
   },
   "outputs": [
    {
     "name": "stdout",
     "output_type": "stream",
     "text": [
      "CPU times: user 10.7 s, sys: 13.7 s, total: 24.4 s\n",
      "Wall time: 18.9 s\n"
     ]
    },
    {
     "data": {
      "image/png": "[encoded data removed]",
      "text/plain": [
       "<matplotlib.figure.Figure at 0x7fb4c360b470>"
      ]
     },
     "metadata": {},
     "output_type": "display_data"
    }
   ],
   "source": [
    "%%time\n",
    "alphas = np.arange(0.0001, 0.01, 0.0001)\n",
    "scores_train = []\n",
    "scores_test = []\n",
    "    \n",
    "for alpha in alphas:\n",
    "    model = Lasso(alpha = alpha, random_state = 0, max_iter = 100000)\n",
    "    scores_train.append(-cross_val_score(model, X_train, y_train, cv = 3, scoring = scorer).mean())\n",
    "    \n",
    "    model.fit(X_train, y_train)\n",
    "    scores_test.append(score_func(y_test, model.predict(X_test)))\n",
    "    \n",
    "plt.plot(alphas, scores_train, color = 'b', label = 'score_train')\n",
    "plt.plot(alphas, scores_test, color = 'r', label = 'score_test')\n",
    "plt.xlabel('alpha')\n",
    "plt.ylabel('RMSE')\n",
    "plt.title('Lasso')\n",
    "plt.legend(loc = 'best')"
   ]
  },
  {
   "cell_type": "code",
   "execution_count": 19,
   "metadata": {
    "collapsed": false
   },
   "outputs": [
    {
     "name": "stdout",
     "output_type": "stream",
     "text": [
      "The best alpha for train sample:  0.0006\n",
      "The best alpha for test sample:  0.0014\n"
     ]
    }
   ],
   "source": [
    "print ('The best alpha for train sample: ', alphas[scores_train.index(min(scores_train))])\n",
    "print ('The best alpha for test sample: ', alphas[scores_test.index(min(scores_test))])"
   ]
  },
  {
   "cell_type": "markdown",
   "metadata": {},
   "source": [
    "Выберем alpha = 0.001."
   ]
  },
  {
   "cell_type": "code",
   "execution_count": 20,
   "metadata": {
    "collapsed": false
   },
   "outputs": [
    {
     "name": "stdout",
     "output_type": "stream",
     "text": [
      "Final score for Lasso on train sample:  0.128909249738\n",
      "Final score for Lasso on test sample:  0.167284614293\n"
     ]
    }
   ],
   "source": [
    "alpha_Lasso = 0.001\n",
    "print('Final score for Lasso on train sample: ', scores_train[9])\n",
    "print('Final score for Lasso on test sample: ', scores_test[9])"
   ]
  },
  {
   "cell_type": "code",
   "execution_count": 21,
   "metadata": {
    "collapsed": false
   },
   "outputs": [
    {
     "data": {
      "text/plain": [
       "<matplotlib.text.Text at 0x7fb4c363e4e0>"
      ]
     },
     "execution_count": 21,
     "metadata": {},
     "output_type": "execute_result"
    },
    {
     "data": {
      "image/png": "[encoded data removed]",
      "text/plain": [
       "<matplotlib.figure.Figure at 0x7fb4c3600358>"
      ]
     },
     "metadata": {},
     "output_type": "display_data"
    }
   ],
   "source": [
    "Lasso_best = Lasso(alpha = alpha_Lasso, random_state = 0)\n",
    "Lasso_best.fit(X_train, y_train)\n",
    "\n",
    "plt.scatter(y_test, Lasso_best.predict(X_test))\n",
    "plt.xlabel('y_test')\n",
    "plt.ylabel('y_pred')\n",
    "plt.title('Scatter plot of test target values and Lasso predictions')"
   ]
  },
  {
   "cell_type": "code",
   "execution_count": 22,
   "metadata": {
    "collapsed": false
   },
   "outputs": [
    {
     "name": "stdout",
     "output_type": "stream",
     "text": [
      "The number of the least significant coefficients:  227\n"
     ]
    }
   ],
   "source": [
    "coef = pd.Series(Lasso_best.coef_)\n",
    "print('The number of the least significant coefficients: ', len(coef) - len(coef.unique()) - 1)"
   ]
  },
  {
   "cell_type": "markdown",
   "metadata": {},
   "source": [
    "## Предсказание результатов на тестовой выборке"
   ]
  },
  {
   "cell_type": "markdown",
   "metadata": {},
   "source": [
    "Поскольку лучший результат на отложенной выборке показал алгоритм Ridge, мы будем использовать его. Более того, возможно, что Lasso больше подвержен переобучению, т.к. он обнуляет довольно много весов, которые могут быть, например, отсутствующими в обучающей выборке значениями категориальных признаков."
   ]
  },
  {
   "cell_type": "markdown",
   "metadata": {},
   "source": [
    "### Загрузка данных"
   ]
  },
  {
   "cell_type": "code",
   "execution_count": 23,
   "metadata": {
    "collapsed": false
   },
   "outputs": [
    {
     "data": {
      "text/html": [
       "<div>\n",
       "<table border=\"1\" class=\"dataframe\">\n",
       "  <thead>\n",
       "    <tr style=\"text-align: right;\">\n",
       "      <th></th>\n",
       "      <th>MSSubClass</th>\n",
       "      <th>MSZoning</th>\n",
       "      <th>LotFrontage</th>\n",
       "      <th>LotArea</th>\n",
       "      <th>Street</th>\n",
       "      <th>Alley</th>\n",
       "      <th>LotShape</th>\n",
       "      <th>LandContour</th>\n",
       "      <th>Utilities</th>\n",
       "      <th>LotConfig</th>\n",
       "      <th>...</th>\n",
       "      <th>ScreenPorch</th>\n",
       "      <th>PoolArea</th>\n",
       "      <th>PoolQC</th>\n",
       "      <th>Fence</th>\n",
       "      <th>MiscFeature</th>\n",
       "      <th>MiscVal</th>\n",
       "      <th>MoSold</th>\n",
       "      <th>YrSold</th>\n",
       "      <th>SaleType</th>\n",
       "      <th>SaleCondition</th>\n",
       "    </tr>\n",
       "    <tr>\n",
       "      <th>Id</th>\n",
       "      <th></th>\n",
       "      <th></th>\n",
       "      <th></th>\n",
       "      <th></th>\n",
       "      <th></th>\n",
       "      <th></th>\n",
       "      <th></th>\n",
       "      <th></th>\n",
       "      <th></th>\n",
       "      <th></th>\n",
       "      <th></th>\n",
       "      <th></th>\n",
       "      <th></th>\n",
       "      <th></th>\n",
       "      <th></th>\n",
       "      <th></th>\n",
       "      <th></th>\n",
       "      <th></th>\n",
       "      <th></th>\n",
       "      <th></th>\n",
       "      <th></th>\n",
       "    </tr>\n",
       "  </thead>\n",
       "  <tbody>\n",
       "    <tr>\n",
       "      <th>1461</th>\n",
       "      <td>20</td>\n",
       "      <td>RH</td>\n",
       "      <td>80.0</td>\n",
       "      <td>11622</td>\n",
       "      <td>Pave</td>\n",
       "      <td>NaN</td>\n",
       "      <td>Reg</td>\n",
       "      <td>Lvl</td>\n",
       "      <td>AllPub</td>\n",
       "      <td>Inside</td>\n",
       "      <td>...</td>\n",
       "      <td>120</td>\n",
       "      <td>0</td>\n",
       "      <td>NaN</td>\n",
       "      <td>MnPrv</td>\n",
       "      <td>NaN</td>\n",
       "      <td>0</td>\n",
       "      <td>6</td>\n",
       "      <td>2010</td>\n",
       "      <td>WD</td>\n",
       "      <td>Normal</td>\n",
       "    </tr>\n",
       "    <tr>\n",
       "      <th>1462</th>\n",
       "      <td>20</td>\n",
       "      <td>RL</td>\n",
       "      <td>81.0</td>\n",
       "      <td>14267</td>\n",
       "      <td>Pave</td>\n",
       "      <td>NaN</td>\n",
       "      <td>IR1</td>\n",
       "      <td>Lvl</td>\n",
       "      <td>AllPub</td>\n",
       "      <td>Corner</td>\n",
       "      <td>...</td>\n",
       "      <td>0</td>\n",
       "      <td>0</td>\n",
       "      <td>NaN</td>\n",
       "      <td>NaN</td>\n",
       "      <td>Gar2</td>\n",
       "      <td>12500</td>\n",
       "      <td>6</td>\n",
       "      <td>2010</td>\n",
       "      <td>WD</td>\n",
       "      <td>Normal</td>\n",
       "    </tr>\n",
       "  </tbody>\n",
       "</table>\n",
       "<p>2 rows × 79 columns</p>\n",
       "</div>"
      ],
      "text/plain": [
       "      MSSubClass MSZoning  LotFrontage  LotArea Street Alley LotShape  \\\n",
       "Id                                                                      \n",
       "1461          20       RH         80.0    11622   Pave   NaN      Reg   \n",
       "1462          20       RL         81.0    14267   Pave   NaN      IR1   \n",
       "\n",
       "     LandContour Utilities LotConfig      ...       ScreenPorch PoolArea  \\\n",
       "Id                                        ...                              \n",
       "1461         Lvl    AllPub    Inside      ...               120        0   \n",
       "1462         Lvl    AllPub    Corner      ...                 0        0   \n",
       "\n",
       "     PoolQC  Fence MiscFeature MiscVal  MoSold  YrSold  SaleType  \\\n",
       "Id                                                                 \n",
       "1461    NaN  MnPrv         NaN       0       6    2010        WD   \n",
       "1462    NaN    NaN        Gar2   12500       6    2010        WD   \n",
       "\n",
       "      SaleCondition  \n",
       "Id                   \n",
       "1461         Normal  \n",
       "1462         Normal  \n",
       "\n",
       "[2 rows x 79 columns]"
      ]
     },
     "execution_count": 23,
     "metadata": {},
     "output_type": "execute_result"
    }
   ],
   "source": [
    "data_test = pd.read_csv('test.csv', index_col = 'Id')\n",
    "data_test[:2]"
   ]
  },
  {
   "cell_type": "markdown",
   "metadata": {},
   "source": [
    "### Предобработка данных"
   ]
  },
  {
   "cell_type": "markdown",
   "metadata": {},
   "source": [
    "#### Заполнение пропусков"
   ]
  },
  {
   "cell_type": "code",
   "execution_count": 24,
   "metadata": {
    "collapsed": false
   },
   "outputs": [
    {
     "name": "stdout",
     "output_type": "stream",
     "text": [
      "Number of missing values in columns:\n",
      "MSZoning :  4\n",
      "LotFrontage :  227\n",
      "Alley :  1352\n",
      "Utilities :  2\n",
      "Exterior1st :  1\n",
      "Exterior2nd :  1\n",
      "MasVnrType :  16\n",
      "MasVnrArea :  15\n",
      "BsmtQual :  44\n",
      "BsmtCond :  45\n",
      "BsmtExposure :  44\n",
      "BsmtFinType1 :  42\n",
      "BsmtFinSF1 :  1\n",
      "BsmtFinType2 :  42\n",
      "BsmtFinSF2 :  1\n",
      "BsmtUnfSF :  1\n",
      "TotalBsmtSF :  1\n",
      "BsmtFullBath :  2\n",
      "BsmtHalfBath :  2\n",
      "KitchenQual :  1\n",
      "Functional :  2\n",
      "FireplaceQu :  730\n",
      "GarageType :  76\n",
      "GarageYrBlt :  78\n",
      "GarageFinish :  78\n",
      "GarageCars :  1\n",
      "GarageArea :  1\n",
      "GarageQual :  78\n",
      "GarageCond :  78\n",
      "PoolQC :  1456\n",
      "Fence :  1169\n",
      "MiscFeature :  1408\n",
      "SaleType :  1\n"
     ]
    }
   ],
   "source": [
    "print('Number of missing values in columns:')\n",
    "for i in range(0, len(data_test.columns)):\n",
    "    if data_test.ix[:, i].isnull().sum() != 0:\n",
    "        print (data_test.columns[i], ': ', data_test.ix[:, i].isnull().sum())"
   ]
  },
  {
   "cell_type": "code",
   "execution_count": 25,
   "metadata": {
    "collapsed": false
   },
   "outputs": [
    {
     "data": {
      "text/plain": [
       "False"
      ]
     },
     "execution_count": 25,
     "metadata": {},
     "output_type": "execute_result"
    }
   ],
   "source": [
    "data_test[categorical_cols].fillna('Null')\n",
    "X_cat_test_sample = pd.DataFrame(data_test[categorical_cols].applymap(str))\n",
    "X_cat_test_sample.isnull().values.any()"
   ]
  },
  {
   "cell_type": "code",
   "execution_count": 26,
   "metadata": {
    "collapsed": false
   },
   "outputs": [
    {
     "data": {
      "text/plain": [
       "False"
      ]
     },
     "execution_count": 26,
     "metadata": {},
     "output_type": "execute_result"
    }
   ],
   "source": [
    "X_num_test_sample = pd.DataFrame(columns = numeric_cols)\n",
    "for i in range(0, len(data_test[numeric_cols].columns)):\n",
    "    X_num_test_sample.ix[:, i] = data_test[numeric_cols].ix[:, i].fillna(0)\n",
    "X_num_test_sample.isnull().values.any()"
   ]
  },
  {
   "cell_type": "markdown",
   "metadata": {},
   "source": [
    "#### Кодирование категориальных признаков"
   ]
  },
  {
   "cell_type": "code",
   "execution_count": 27,
   "metadata": {
    "collapsed": true
   },
   "outputs": [],
   "source": [
    "# заново кодируем полную обучающую выборку для полной уверенности в оценках\n",
    "encoder = DV(sparse = False)\n",
    "X_cat_train_sample_encoded = encoder.fit_transform(X_cat.T.to_dict().values())\n",
    "X_cat_test_sample_encoded = encoder.transform(X_cat_test_sample.T.to_dict().values())"
   ]
  },
  {
   "cell_type": "markdown",
   "metadata": {},
   "source": [
    "#### Масштабирование числовых признаков"
   ]
  },
  {
   "cell_type": "code",
   "execution_count": 28,
   "metadata": {
    "collapsed": true
   },
   "outputs": [],
   "source": [
    "# обучаем scaler на полной обучающей выборке\n",
    "scaler = StandardScaler()\n",
    "X_num_train_sample_scaled = scaler.fit_transform(X_num, y) \n",
    "X_num_test_sample_scaled = scaler.transform(X_num_test_sample)"
   ]
  },
  {
   "cell_type": "markdown",
   "metadata": {},
   "source": [
    "#### Формирование итоговых обучающей и тестовой выборок"
   ]
  },
  {
   "cell_type": "code",
   "execution_count": 29,
   "metadata": {
    "collapsed": false
   },
   "outputs": [],
   "source": [
    "X_train_sample = np.hstack([X_num_train_sample_scaled, X_cat_train_sample_encoded])\n",
    "X_test_sample = np.hstack([X_num_test_sample_scaled, X_cat_test_sample_encoded])"
   ]
  },
  {
   "cell_type": "markdown",
   "metadata": {},
   "source": [
    "### Обучение моделей"
   ]
  },
  {
   "cell_type": "code",
   "execution_count": 30,
   "metadata": {
    "collapsed": false
   },
   "outputs": [
    {
     "data": {
      "text/plain": [
       "<matplotlib.text.Text at 0x7fb4c1bd6d68>"
      ]
     },
     "execution_count": 30,
     "metadata": {},
     "output_type": "execute_result"
    },
    {
     "data": {
      "image/png": "[encoded data removed]",
      "text/plain": [
       "<matplotlib.figure.Figure at 0x7fb4c14f6208>"
      ]
     },
     "metadata": {},
     "output_type": "display_data"
    }
   ],
   "source": [
    "Ridge_regressor = Ridge(alpha = alpha_Ridge, random_state = 0)\n",
    "Ridge_regressor.fit(X_train_sample, y)\n",
    "predictions = Ridge_regressor.predict(X_test_sample)\n",
    "\n",
    "answers = np.exp(predictions)\n",
    "plt.figure(figsize = (15, 5))\n",
    "\n",
    "plt.subplot(1, 2, 1)\n",
    "sns.distplot(predictions, bins = 50, color = 'g')\n",
    "plt.title('Natural Log of Data')\n",
    "plt.xlabel('Natural Log of Predicted Sales Price')\n",
    "\n",
    "plt.subplot(1, 2, 2)\n",
    "sns.distplot(answers, bins = 50)\n",
    "plt.title('Original Data')\n",
    "plt.xlabel('Predicted Sales Price')"
   ]
  },
  {
   "cell_type": "markdown",
   "metadata": {},
   "source": [
    "Распределения целевой переменной и логарифма на тесте выглядят аналогично обучающей выборке. Это, конечно, не строгая оценка, но тем не менее в какой-то мере исключает грубые ошибки."
   ]
  },
  {
   "cell_type": "markdown",
   "metadata": {},
   "source": [
    "### Экспорт данных"
   ]
  },
  {
   "cell_type": "code",
   "execution_count": 31,
   "metadata": {
    "collapsed": false
   },
   "outputs": [],
   "source": [
    "pd.DataFrame(answers, index = data_test.index, columns = ['SalePrice']).to_csv('answers_Ridge')"
   ]
  }
 ],
 "metadata": {
  "kernelspec": {
   "display_name": "Python 3",
   "language": "python",
   "name": "python3"
  },
  "language_info": {
   "codemirror_mode": {
    "name": "ipython",
    "version": 3
   },
   "file_extension": ".py",
   "mimetype": "text/x-python",
   "name": "python",
   "nbconvert_exporter": "python",
   "pygments_lexer": "ipython3",
   "version": "3.6.0"
  }
 },
 "nbformat": 4,
 "nbformat_minor": 2
}
