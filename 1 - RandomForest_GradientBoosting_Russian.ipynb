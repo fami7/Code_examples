{
 "cells": [
  {
   "cell_type": "markdown",
   "metadata": {},
   "source": [
    "# House Prices: Advanced Regression Techniques"
   ]
  },
  {
   "cell_type": "markdown",
   "metadata": {},
   "source": [
    "## Случайный лес и градиентный бустинг над решающими деревьями"
   ]
  },
  {
   "cell_type": "markdown",
   "metadata": {},
   "source": [
    "Необходимо предсказать цену недвижимости по имеющимся описаниям домов. Это задача из конкурса Kaggle, с условиями и описанием признаков можно ознакомиться здесь: https://www.kaggle.com/c/house-prices-advanced-regression-techniques\n",
    "\n",
    "В первой части решения будут использоваться RandomForest и GradietnBoosting. \n",
    "* Подбор параметров будем осуществлять поиском по сетке GridSearchCV и RandomizedSearchCV на кросс-валидации по 3-м блокам. \n",
    "* Выбор лучшей модели - по отложенной выборке. \n",
    "* Метрика качества - RMSE над логарифмом целевой переменной.\n",
    "* В качестве кодирования категориальных признаков будем использовать специальный метод кодирования для решающих деревьев. \n",
    "* Обработка пропущенных значений: медиана для числовых признаков, новое значение - для категориальных."
   ]
  },
  {
   "cell_type": "code",
   "execution_count": 36,
   "metadata": {
    "collapsed": false
   },
   "outputs": [],
   "source": [
    "import pandas as pd\n",
    "import numpy as np\n",
    "from sklearn.cross_validation import train_test_split\n",
    "from sklearn.grid_search import GridSearchCV, RandomizedSearchCV\n",
    "from sklearn.ensemble import RandomForestRegressor, GradientBoostingRegressor\n",
    "from sklearn.metrics import mean_squared_error, make_scorer\n",
    "\n",
    "import time\n",
    "\n",
    "import seaborn as sns\n",
    "from matplotlib import pylab as plt\n",
    "%matplotlib inline"
   ]
  },
  {
   "cell_type": "markdown",
   "metadata": {},
   "source": [
    "## Загрузка данных"
   ]
  },
  {
   "cell_type": "code",
   "execution_count": 2,
   "metadata": {
    "collapsed": false
   },
   "outputs": [
    {
     "data": {
      "text/html": [
       "<div>\n",
       "<table border=\"1\" class=\"dataframe\">\n",
       "  <thead>\n",
       "    <tr style=\"text-align: right;\">\n",
       "      <th></th>\n",
       "      <th>MSSubClass</th>\n",
       "      <th>MSZoning</th>\n",
       "      <th>LotFrontage</th>\n",
       "      <th>LotArea</th>\n",
       "      <th>Street</th>\n",
       "      <th>Alley</th>\n",
       "      <th>LotShape</th>\n",
       "      <th>LandContour</th>\n",
       "      <th>Utilities</th>\n",
       "      <th>LotConfig</th>\n",
       "      <th>...</th>\n",
       "      <th>PoolArea</th>\n",
       "      <th>PoolQC</th>\n",
       "      <th>Fence</th>\n",
       "      <th>MiscFeature</th>\n",
       "      <th>MiscVal</th>\n",
       "      <th>MoSold</th>\n",
       "      <th>YrSold</th>\n",
       "      <th>SaleType</th>\n",
       "      <th>SaleCondition</th>\n",
       "      <th>SalePrice</th>\n",
       "    </tr>\n",
       "    <tr>\n",
       "      <th>Id</th>\n",
       "      <th></th>\n",
       "      <th></th>\n",
       "      <th></th>\n",
       "      <th></th>\n",
       "      <th></th>\n",
       "      <th></th>\n",
       "      <th></th>\n",
       "      <th></th>\n",
       "      <th></th>\n",
       "      <th></th>\n",
       "      <th></th>\n",
       "      <th></th>\n",
       "      <th></th>\n",
       "      <th></th>\n",
       "      <th></th>\n",
       "      <th></th>\n",
       "      <th></th>\n",
       "      <th></th>\n",
       "      <th></th>\n",
       "      <th></th>\n",
       "      <th></th>\n",
       "    </tr>\n",
       "  </thead>\n",
       "  <tbody>\n",
       "    <tr>\n",
       "      <th>1</th>\n",
       "      <td>60</td>\n",
       "      <td>RL</td>\n",
       "      <td>65.0</td>\n",
       "      <td>8450</td>\n",
       "      <td>Pave</td>\n",
       "      <td>NaN</td>\n",
       "      <td>Reg</td>\n",
       "      <td>Lvl</td>\n",
       "      <td>AllPub</td>\n",
       "      <td>Inside</td>\n",
       "      <td>...</td>\n",
       "      <td>0</td>\n",
       "      <td>NaN</td>\n",
       "      <td>NaN</td>\n",
       "      <td>NaN</td>\n",
       "      <td>0</td>\n",
       "      <td>2</td>\n",
       "      <td>2008</td>\n",
       "      <td>WD</td>\n",
       "      <td>Normal</td>\n",
       "      <td>208500</td>\n",
       "    </tr>\n",
       "    <tr>\n",
       "      <th>2</th>\n",
       "      <td>20</td>\n",
       "      <td>RL</td>\n",
       "      <td>80.0</td>\n",
       "      <td>9600</td>\n",
       "      <td>Pave</td>\n",
       "      <td>NaN</td>\n",
       "      <td>Reg</td>\n",
       "      <td>Lvl</td>\n",
       "      <td>AllPub</td>\n",
       "      <td>FR2</td>\n",
       "      <td>...</td>\n",
       "      <td>0</td>\n",
       "      <td>NaN</td>\n",
       "      <td>NaN</td>\n",
       "      <td>NaN</td>\n",
       "      <td>0</td>\n",
       "      <td>5</td>\n",
       "      <td>2007</td>\n",
       "      <td>WD</td>\n",
       "      <td>Normal</td>\n",
       "      <td>181500</td>\n",
       "    </tr>\n",
       "  </tbody>\n",
       "</table>\n",
       "<p>2 rows × 80 columns</p>\n",
       "</div>"
      ],
      "text/plain": [
       "    MSSubClass MSZoning  LotFrontage  LotArea Street Alley LotShape  \\\n",
       "Id                                                                    \n",
       "1           60       RL         65.0     8450   Pave   NaN      Reg   \n",
       "2           20       RL         80.0     9600   Pave   NaN      Reg   \n",
       "\n",
       "   LandContour Utilities LotConfig    ...     PoolArea PoolQC Fence  \\\n",
       "Id                                    ...                             \n",
       "1          Lvl    AllPub    Inside    ...            0    NaN   NaN   \n",
       "2          Lvl    AllPub       FR2    ...            0    NaN   NaN   \n",
       "\n",
       "   MiscFeature MiscVal MoSold  YrSold  SaleType  SaleCondition  SalePrice  \n",
       "Id                                                                         \n",
       "1          NaN       0      2    2008        WD         Normal     208500  \n",
       "2          NaN       0      5    2007        WD         Normal     181500  \n",
       "\n",
       "[2 rows x 80 columns]"
      ]
     },
     "execution_count": 2,
     "metadata": {},
     "output_type": "execute_result"
    }
   ],
   "source": [
    "data_train = pd.read_csv('train.csv', index_col = 'Id')\n",
    "data_train[:2]"
   ]
  },
  {
   "cell_type": "markdown",
   "metadata": {},
   "source": [
    "## Предобработка данных"
   ]
  },
  {
   "cell_type": "markdown",
   "metadata": {},
   "source": [
    "#### Целевая переменная"
   ]
  },
  {
   "cell_type": "markdown",
   "metadata": {},
   "source": [
    "Рассмотрим целевую переменную. В качестве метрики для оценки качества алгоритмов в конкурсе используется RMSE над логарифмами цен. Это делается для того, чтобы ошибки при определении цены дорогой и дешевой недвижимости имели одинаковый вес. Поэтому мы также будем обучать модели на логарифме от исходной целевой переменной."
   ]
  },
  {
   "cell_type": "code",
   "execution_count": 3,
   "metadata": {
    "collapsed": false
   },
   "outputs": [
    {
     "data": {
      "text/plain": [
       "<matplotlib.text.Text at 0x7fd094448908>"
      ]
     },
     "execution_count": 3,
     "metadata": {},
     "output_type": "execute_result"
    },
    {
     "data": {
      "image/png": "[encoded data removed]",
      "text/plain": [
       "<matplotlib.figure.Figure at 0x7fd09461b4e0>"
      ]
     },
     "metadata": {},
     "output_type": "display_data"
    }
   ],
   "source": [
    "y = np.log(data_train['SalePrice'])\n",
    "\n",
    "plt.figure(figsize = (15, 5))\n",
    "plt.subplot(1, 2, 1)\n",
    "sns.distplot(data_train['SalePrice'], bins = 50)\n",
    "plt.title('Original Data')\n",
    "plt.xlabel('Sales Price')\n",
    "\n",
    "plt.subplot(1, 2, 2)\n",
    "sns.distplot(y, bins = 50, color = 'g')\n",
    "plt.title('Natural Log of Data')\n",
    "plt.xlabel('Natural Log of Sales Price')"
   ]
  },
  {
   "cell_type": "markdown",
   "metadata": {},
   "source": [
    "#### Заполнение пропусков"
   ]
  },
  {
   "cell_type": "markdown",
   "metadata": {},
   "source": [
    "Рассмотрим теперь матрицу объекты - признаки. Для начала разделим все признаки на два типа: числовые и категориальные, поскольку мы будем обрабатывать их по-разному."
   ]
  },
  {
   "cell_type": "code",
   "execution_count": 4,
   "metadata": {
    "collapsed": true
   },
   "outputs": [],
   "source": [
    "numeric_cols = []\n",
    "categorical_cols = []\n",
    "for column in data_train.drop('SalePrice', axis = 1, inplace = False).columns.values:\n",
    "    if data_train[column].dtype == 'object':\n",
    "        categorical_cols.append(column)\n",
    "    else:\n",
    "        numeric_cols.append(column)\n",
    "\n",
    "# Некоторые признаки, имеющие в качестве значений числа, тем не менее являются\n",
    "# категориальными. Использование их как числовых ведет к ухудшению результата\n",
    "for feature in ['MSSubClass', 'MoSold']:\n",
    "    numeric_cols.remove(feature)\n",
    "    categorical_cols.append(feature)"
   ]
  },
  {
   "cell_type": "markdown",
   "metadata": {},
   "source": [
    "Посмотрим, сколько и в каких колонках есть пропуски:"
   ]
  },
  {
   "cell_type": "code",
   "execution_count": 5,
   "metadata": {
    "collapsed": false
   },
   "outputs": [
    {
     "name": "stdout",
     "output_type": "stream",
     "text": [
      "Number of missing values in columns:\n",
      "LotFrontage :  259\n",
      "Alley :  1369\n",
      "MasVnrType :  8\n",
      "MasVnrArea :  8\n",
      "BsmtQual :  37\n",
      "BsmtCond :  37\n",
      "BsmtExposure :  38\n",
      "BsmtFinType1 :  37\n",
      "BsmtFinType2 :  38\n",
      "Electrical :  1\n",
      "FireplaceQu :  690\n",
      "GarageType :  81\n",
      "GarageYrBlt :  81\n",
      "GarageFinish :  81\n",
      "GarageQual :  81\n",
      "GarageCond :  81\n",
      "PoolQC :  1453\n",
      "Fence :  1179\n",
      "MiscFeature :  1406\n"
     ]
    }
   ],
   "source": [
    "print('Number of missing values in columns:')\n",
    "for i in range(0, len(data_train.columns)):\n",
    "    if data_train.ix[:, i].isnull().sum() != 0:\n",
    "        print (data_train.columns[i], ': ', data_train.ix[:, i].isnull().sum())"
   ]
  },
  {
   "cell_type": "markdown",
   "metadata": {},
   "source": [
    "Необходимо отметить, что для многих признаков nan - это отдельное значение. Например, nan в GarageType и других признаках, описывающих состояние гаража, означает, что гаража вообще нет. В основном такое правило соблюдается для категориальных и порядковых признаков. Поэтому мы будем заменять пропуски новой категорией nan. "
   ]
  },
  {
   "cell_type": "code",
   "execution_count": 6,
   "metadata": {
    "collapsed": false
   },
   "outputs": [
    {
     "data": {
      "text/plain": [
       "False"
      ]
     },
     "execution_count": 6,
     "metadata": {},
     "output_type": "execute_result"
    }
   ],
   "source": [
    "data_train[categorical_cols].fillna('Null')\n",
    "X_cat = pd.DataFrame(data_train[categorical_cols].applymap(str))\n",
    "X_cat.isnull().values.any()"
   ]
  },
  {
   "cell_type": "markdown",
   "metadata": {},
   "source": [
    "Для числовых признаков лучше заменить пропуски на медиану, так обучение будет более устойчиво к выбросам."
   ]
  },
  {
   "cell_type": "code",
   "execution_count": 7,
   "metadata": {
    "collapsed": false
   },
   "outputs": [
    {
     "data": {
      "text/plain": [
       "False"
      ]
     },
     "execution_count": 7,
     "metadata": {},
     "output_type": "execute_result"
    }
   ],
   "source": [
    "X_num = pd.DataFrame(columns = numeric_cols)\n",
    "for i in range(0, len(data_train[numeric_cols].columns)):\n",
    "    X_num.ix[:, i] = data_train[numeric_cols].ix[:, i].fillna(data_train[numeric_cols].ix[:, i].median())\n",
    "X_num.isnull().values.any()"
   ]
  },
  {
   "cell_type": "markdown",
   "metadata": {},
   "source": [
    "#### Формирование отложенной выборки"
   ]
  },
  {
   "cell_type": "code",
   "execution_count": 8,
   "metadata": {
    "collapsed": true
   },
   "outputs": [],
   "source": [
    "X_num_train, X_num_test, y_train, y_test = train_test_split(X_num, y, test_size = 0.3, random_state = 0)\n",
    "X_cat_train, X_cat_test = train_test_split(X_cat, test_size = 0.3, random_state = 0)"
   ]
  },
  {
   "cell_type": "markdown",
   "metadata": {},
   "source": [
    "#### Кодирование категориальных признаков"
   ]
  },
  {
   "cell_type": "markdown",
   "metadata": {},
   "source": [
    "В выборке у нас очень много категориальных признаков, хочется использовать эти данные на обучении. Однако применение one-hot encoding сильно увеличит количество признаков и затруднит работу с деревьями. Поэтому мы будем использовать специальный способ кодирования для решающих деревьев. К сожалению, не нашла готовую функцию в библиотеках, поэтому реализовала ее здесь."
   ]
  },
  {
   "cell_type": "markdown",
   "metadata": {},
   "source": [
    "Здесь использован подход из курса https://www.coursera.org/learn/supervised-learning/home/week/4. Кодирование производится следующим образом:\n",
    "\n",
    "* Значения для каждого признака сортируются в порядке увеличения среднего ответа по всем объектам с такими значениями:\n",
    "\n",
    "$$\\frac{\\sum_{i\\subset X_m} [x_i^j = c_{(1)}]y_i}{\\sum_{i\\subset X_m} [x_i^j = c_{(1)}]} \\leq \\:...\\: \\leq \\frac{\\sum_{i\\subset X_m} [x_i^j = c_{(n)}]y_i}{\\sum_{i\\subset X_m} [x_i^j = c_{(n)}]},$$\n",
    "\n",
    "  где:\n",
    "$X_m$ - подвыборка объектов с одинаковыми значениями признака $c_{(1)}$, \n",
    "$x_i^j$ - значение j-го признака на i-м объекте, \n",
    "$y_i$ - значение целевой переменной на i-м объекте.\n",
    "\n",
    "\n",
    "* Эти значения $c_{(1)}, \\:...\\:, c_{(n)}$ заменяются на последовательность 1, ..., n\n",
    "* Далее работаем с категориальными признаками как с числовыми\n",
    "\n",
    "Таким способом мы в какой-то мере сохраняем значения признаков и их влияние на целевую переменную, не увеличивая количество признаков."
   ]
  },
  {
   "cell_type": "code",
   "execution_count": 9,
   "metadata": {
    "collapsed": true
   },
   "outputs": [],
   "source": [
    "# Функция формирует маппинг старых значений на новые\n",
    "# для одного признака\n",
    "def get_map(feature_train, y_train):\n",
    "    feature_map = pd.DataFrame() # здесь будет храниться маппинг\n",
    "\n",
    "    for label in feature_train.unique():\n",
    "        # для каждого уникального значения считаем среднее для целевой переменной\n",
    "        feature_map.ix[label, 'Proportion'] = y_train[feature_train == label].sum() / \\\n",
    "        float(feature_train.value_counts()[label])\n",
    "    \n",
    "    # сортируем значения и получаем новые значения от 1 до n\n",
    "    feature_map.sort_values(by = 'Proportion', inplace = True)\n",
    "    feature_map[feature_train.name] = np.arange(1, len(feature_map) + 1)\n",
    "    \n",
    "    return feature_map[feature_train.name]"
   ]
  },
  {
   "cell_type": "code",
   "execution_count": 10,
   "metadata": {
    "collapsed": true
   },
   "outputs": [],
   "source": [
    "# Функция кодирует признаки на обучающей выборке \n",
    "# и формирует маппинг для всех признаков\n",
    "def cat_encode_fit_transform(X_train, y_train):\n",
    "    \n",
    "    X_train_encoded = X_train.copy() # здесь будут новые значения\n",
    "    map_train = [] # здесь будет маппинг старых значений на новые для всех признаков\n",
    "    \n",
    "    for feature_num in range(0, len(X_train.columns)):\n",
    "        # для каждого признака получаем маппинг\n",
    "        feature_map = get_map(X_train.ix[:, feature_num], y_train)\n",
    "        map_train.append(feature_map)\n",
    "        \n",
    "        # заменяем предыдущие значения на новые\n",
    "        for index in X_train.index:\n",
    "            for label in feature_map.index:\n",
    "                if X_train.ix[index, feature_num] == label:\n",
    "                    X_train_encoded.ix[index, feature_num] = feature_map[label]\n",
    "                    continue\n",
    "                    \n",
    "    return X_train_encoded, map_train"
   ]
  },
  {
   "cell_type": "code",
   "execution_count": 11,
   "metadata": {
    "collapsed": true
   },
   "outputs": [],
   "source": [
    "# Функция кодирует признаки на тестовой выборке,\n",
    "# используя маппинг, полученный при кодировании обучающей выборки\n",
    "def cat_encode_transform(X_test, map_train):\n",
    "    \n",
    "    X_test_encoded = X_test.copy() # здесь будут новые значения\n",
    "    map_test = [] # здесь будет новый маппинг, в который могут быть добавлены\n",
    "    # значения признаков, которых не было в обучающей выборке\n",
    "    \n",
    "    # Копируем маппинг с обучения\n",
    "    for feature_num in range(0, len(map_train)):\n",
    "        map_test.append(map_train[feature_num].copy())\n",
    "    \n",
    "    for feature_num in range(0, len(X_test.columns)):\n",
    "        # Для каждого признака сравниваем его значения с маппингом\n",
    "        for index in X_test.index:\n",
    "            index_encoded = False # признак закодированного значения\n",
    "            \n",
    "            for encode_label in map_test[feature_num].index:\n",
    "                \n",
    "                if X_test.ix[index, feature_num] == encode_label:\n",
    "                    X_test_encoded.ix[index, feature_num] = map_test[feature_num][encode_label]\n",
    "                    index_encoded = True\n",
    "                    continue\n",
    "                    \n",
    "            # если значение из тестовой выборки не встречалось на обучении, кодируем 0\n",
    "            if not index_encoded:\n",
    "                map_test[feature_num][X_test.ix[index, feature_num]] = 0\n",
    "                X_test_encoded.ix[index, feature_num] = 0\n",
    "    \n",
    "    return X_test_encoded, map_test"
   ]
  },
  {
   "cell_type": "markdown",
   "metadata": {},
   "source": [
    "Для демонстрации работы приведем простой пример. Зададим два DataFrame, обучающий и тестовый:"
   ]
  },
  {
   "cell_type": "code",
   "execution_count": 12,
   "metadata": {
    "collapsed": false
   },
   "outputs": [],
   "source": [
    "# Обучающая выборка\n",
    "basket_train = pd.DataFrame(np.array([['Apple', 'Apple', 'Orange', 'Apricot'], \\\n",
    "                                     ['Green', 'Yellow', 'Yellow', 'Yellow']]).T, \\\n",
    "                            columns = ['Fruit', 'Color'])\n",
    "# Целевая переменная\n",
    "basket_target = pd.Series(np.array([2, 5, 4, 3]), name = 'Count')\n",
    "\n",
    "# Тестовая выборка\n",
    "basket_test = pd.DataFrame(np.array([['Apple', 'Banana', 'Orange', 'Apricot'], \\\n",
    "                                     ['Green', 'Pink', 'Yellow', 'Yellow']]).T, \\\n",
    "                            columns = ['Fruit', 'Color'])"
   ]
  },
  {
   "cell_type": "markdown",
   "metadata": {},
   "source": [
    "Итак, в тестовой выборке у нас появился розовый банан, которого не было на обучении. Мы используем количество фруктов 'Count' в качестве целевой переменной. Попробуем теперь закодировать обучающую выборку:"
   ]
  },
  {
   "cell_type": "code",
   "execution_count": 13,
   "metadata": {
    "collapsed": false
   },
   "outputs": [
    {
     "name": "stdout",
     "output_type": "stream",
     "text": [
      "Train sample: \n",
      "     Fruit   Color  Count\n",
      "0    Apple   Green      2\n",
      "1    Apple  Yellow      5\n",
      "2   Orange  Yellow      4\n",
      "3  Apricot  Yellow      3\n",
      "\n",
      "Encoded train:\n",
      "  Fruit Color\n",
      "0     2     1\n",
      "1     2     2\n",
      "2     3     2\n",
      "3     1     2\n",
      "\n",
      "Train map:\n",
      "Apricot    1\n",
      "Apple      2\n",
      "Orange     3\n",
      "Name: Fruit, dtype: int64\n",
      "Green     1\n",
      "Yellow    2\n",
      "Name: Color, dtype: int64\n"
     ]
    }
   ],
   "source": [
    "basket_train_encoded, basket_train_map = cat_encode_fit_transform(basket_train, basket_target)\n",
    "print('Train sample: ')\n",
    "print(pd.concat([basket_train, basket_target], axis = 1))\n",
    "print()\n",
    "print('Encoded train:')\n",
    "print(basket_train_encoded)\n",
    "print()\n",
    "print('Train map:')\n",
    "print(basket_train_map[0])\n",
    "print(basket_train_map[1])"
   ]
  },
  {
   "cell_type": "markdown",
   "metadata": {},
   "source": [
    "Так Apple получает код 2, т.к. среднее по колонке 'Count' для него (2 + 5) / 2 = 3.5, в то время как для Orange это 4. Теперь закодируем тестовую выборку:"
   ]
  },
  {
   "cell_type": "code",
   "execution_count": 14,
   "metadata": {
    "collapsed": false
   },
   "outputs": [
    {
     "name": "stdout",
     "output_type": "stream",
     "text": [
      "Test sample: \n",
      "     Fruit   Color\n",
      "0    Apple   Green\n",
      "1   Banana    Pink\n",
      "2   Orange  Yellow\n",
      "3  Apricot  Yellow\n",
      "\n",
      "Encoded test:\n",
      "  Fruit Color\n",
      "0     2     1\n",
      "1     0     0\n",
      "2     3     2\n",
      "3     1     2\n",
      "\n",
      "Test map:\n",
      "Apricot    1\n",
      "Apple      2\n",
      "Orange     3\n",
      "Banana     0\n",
      "Name: Fruit, dtype: int64\n",
      "Green     1\n",
      "Yellow    2\n",
      "Pink      0\n",
      "Name: Color, dtype: int64\n"
     ]
    }
   ],
   "source": [
    "basket_test_encoded, basket_test_map = cat_encode_transform(basket_test, basket_train_map)\n",
    "print('Test sample: ')\n",
    "print(basket_test)\n",
    "print()\n",
    "print('Encoded test:')\n",
    "print(basket_test_encoded)\n",
    "print()\n",
    "print('Test map:')\n",
    "print(basket_test_map[0])\n",
    "print(basket_test_map[1])"
   ]
  },
  {
   "cell_type": "markdown",
   "metadata": {},
   "source": [
    "У Pink и Banana мы видим код 0, т.к. этих значений не было в обучающей выборке. Теперь мы можем закодировать категориальные признаки в нашей задаче. Это займет некоторое время."
   ]
  },
  {
   "cell_type": "code",
   "execution_count": 15,
   "metadata": {
    "collapsed": false
   },
   "outputs": [
    {
     "name": "stdout",
     "output_type": "stream",
     "text": [
      "CPU times: user 1min 4s, sys: 96 ms, total: 1min 4s\n",
      "Wall time: 1min 4s\n"
     ]
    }
   ],
   "source": [
    "%%time\n",
    "X_cat_train_encoded, map_train = cat_encode_fit_transform(X_cat_train, y_train)"
   ]
  },
  {
   "cell_type": "code",
   "execution_count": 16,
   "metadata": {
    "collapsed": false
   },
   "outputs": [
    {
     "name": "stdout",
     "output_type": "stream",
     "text": [
      "CPU times: user 26.9 s, sys: 52 ms, total: 26.9 s\n",
      "Wall time: 26.8 s\n"
     ]
    }
   ],
   "source": [
    "%%time\n",
    "X_cat_test_encoded, map_test = cat_encode_transform(X_cat_test, map_train)"
   ]
  },
  {
   "cell_type": "markdown",
   "metadata": {},
   "source": [
    "#### Формирование итоговых обучающей и тестовой выборки"
   ]
  },
  {
   "cell_type": "code",
   "execution_count": 17,
   "metadata": {
    "collapsed": true
   },
   "outputs": [],
   "source": [
    "X_train = np.hstack([X_num_train, X_cat_train_encoded])\n",
    "X_test = np.hstack([X_num_test, X_cat_test_encoded])"
   ]
  },
  {
   "cell_type": "markdown",
   "metadata": {},
   "source": [
    "## Обучение моделей"
   ]
  },
  {
   "cell_type": "markdown",
   "metadata": {},
   "source": [
    "#### Scorer и Grid Search"
   ]
  },
  {
   "cell_type": "markdown",
   "metadata": {},
   "source": [
    "Здесь мы определим некоторые полезные функции, которые помогут при обучении моделей."
   ]
  },
  {
   "cell_type": "code",
   "execution_count": 18,
   "metadata": {
    "collapsed": true
   },
   "outputs": [],
   "source": [
    "# Scorer будет использоваться при поиске по сетке\n",
    "# на кросс-валидации\n",
    "def score_func(y_test, y_pred):\n",
    "    return np.sqrt(mean_squared_error(y_test, y_pred))\n",
    "\n",
    "scorer = make_scorer(score_func, greater_is_better = False)"
   ]
  },
  {
   "cell_type": "code",
   "execution_count": 19,
   "metadata": {
    "collapsed": true
   },
   "outputs": [],
   "source": [
    "# Функция организует поиск по сетке лучшего алгоритма \n",
    "# и выводит результаты\n",
    "def GridSearch(estimator, param_grid, X_train = X_train, y_train = y_train, cv = 3, scorer = None, random_grid = False):\n",
    "        \n",
    "    if random_grid:\n",
    "        grid = RandomizedSearchCV(estimator, param_grid, cv = 3, scoring = scorer, random_state = 0)\n",
    "    else:\n",
    "        grid = GridSearchCV(estimator, param_grid, cv = 3, scoring = scorer)\n",
    "    \n",
    "    start = time.time()\n",
    "    grid.fit(X_train, y_train)\n",
    "    end = time.time()\n",
    "    \n",
    "    print('Best estimator:\\n', grid.best_estimator_)\n",
    "    print()\n",
    "    print('Best score:\\n', - grid.best_score_)\n",
    "    print()\n",
    "    print('Scores:\\n', grid.grid_scores_[:5])\n",
    "    print()\n",
    "    print('Time elapsed: ', end - start, 'sec')\n",
    "    \n",
    "    return grid.best_estimator_"
   ]
  },
  {
   "cell_type": "code",
   "execution_count": 20,
   "metadata": {
    "collapsed": true
   },
   "outputs": [],
   "source": [
    "# Функция выводит результат на тестовой выборке\n",
    "def get_score(estimator, X_test = X_test, y_test = y_test):\n",
    "    y_pred = estimator.predict(X_test)\n",
    "    \n",
    "    print('RMSE on test sample: ', \\\n",
    "          np.sqrt(mean_squared_error(y_test, y_pred)))\n",
    "    \n",
    "    plt.scatter(y_test, y_pred)\n",
    "    plt.xlabel('y_test')\n",
    "    plt.ylabel('y_pred')"
   ]
  },
  {
   "cell_type": "markdown",
   "metadata": {},
   "source": [
    "### Random Forest"
   ]
  },
  {
   "cell_type": "markdown",
   "metadata": {},
   "source": [
    "Поскольку Random Forest обучается довольно долго, для начала организуем случайный поиск по сетке."
   ]
  },
  {
   "cell_type": "code",
   "execution_count": 21,
   "metadata": {
    "collapsed": false
   },
   "outputs": [
    {
     "name": "stdout",
     "output_type": "stream",
     "text": [
      "Best estimator:\n",
      " RandomForestRegressor(bootstrap=True, criterion='mse', max_depth=71,\n",
      "           max_features=18, max_leaf_nodes=None, min_impurity_split=1e-07,\n",
      "           min_samples_leaf=1, min_samples_split=2,\n",
      "           min_weight_fraction_leaf=0.0, n_estimators=619, n_jobs=5,\n",
      "           oob_score=False, random_state=0, verbose=0, warm_start=False)\n",
      "\n",
      "Best score:\n",
      " 0.1398629781953413\n",
      "\n",
      "Scores:\n",
      " [mean: -0.14070, std: 0.01594, params: {'random_state': 0, 'n_jobs': 5, 'n_estimators': 630, 'max_features': 41, 'max_depth': 62}, mean: -0.14269, std: 0.01547, params: {'random_state': 0, 'n_jobs': 5, 'n_estimators': 865, 'max_features': 50, 'max_depth': 22}, mean: -0.14080, std: 0.01613, params: {'random_state': 0, 'n_jobs': 5, 'n_estimators': 239, 'max_features': 25, 'max_depth': 32}, mean: -0.13986, std: 0.01656, params: {'random_state': 0, 'n_jobs': 5, 'n_estimators': 619, 'max_features': 18, 'max_depth': 71}, mean: -0.14436, std: 0.01607, params: {'random_state': 0, 'n_jobs': 5, 'n_estimators': 772, 'max_features': 59, 'max_depth': 32}]\n",
      "\n",
      "Time elapsed:  59.104753494262695 sec\n"
     ]
    },
    {
     "data": {
      "text/plain": [
       "RandomForestRegressor(bootstrap=True, criterion='mse', max_depth=71,\n",
       "           max_features=18, max_leaf_nodes=None, min_impurity_split=1e-07,\n",
       "           min_samples_leaf=1, min_samples_split=2,\n",
       "           min_weight_fraction_leaf=0.0, n_estimators=619, n_jobs=5,\n",
       "           oob_score=False, random_state=0, verbose=0, warm_start=False)"
      ]
     },
     "execution_count": 21,
     "metadata": {},
     "output_type": "execute_result"
    }
   ],
   "source": [
    "RF = RandomForestRegressor()\n",
    "\n",
    "random_param_grid_RF = {\n",
    "    'max_depth' : np.arange(3, 100),\n",
    "    'max_features' : np.arange(3, 79),\n",
    "    'n_estimators' : np.arange(5, 1000),\n",
    "    'n_jobs' : [5],\n",
    "    'random_state' : [0]\n",
    "}\n",
    "\n",
    "GridSearch(RF, random_param_grid_RF, random_grid = True, scorer = scorer)"
   ]
  },
  {
   "cell_type": "code",
   "execution_count": 22,
   "metadata": {
    "collapsed": false
   },
   "outputs": [
    {
     "name": "stdout",
     "output_type": "stream",
     "text": [
      "Best estimator:\n",
      " RandomForestRegressor(bootstrap=True, criterion='mse', max_depth=60,\n",
      "           max_features=18, max_leaf_nodes=None, min_impurity_split=1e-07,\n",
      "           min_samples_leaf=1, min_samples_split=2,\n",
      "           min_weight_fraction_leaf=0.0, n_estimators=500, n_jobs=5,\n",
      "           oob_score=False, random_state=0, verbose=0, warm_start=False)\n",
      "\n",
      "Best score:\n",
      " 0.13962835595182307\n",
      "\n",
      "Scores:\n",
      " [mean: -0.14021, std: 0.01651, params: {'max_depth': 60, 'max_features': 15, 'n_estimators': 500, 'n_jobs': 5, 'random_state': 0}, mean: -0.14025, std: 0.01657, params: {'max_depth': 60, 'max_features': 15, 'n_estimators': 550, 'n_jobs': 5, 'random_state': 0}, mean: -0.14034, std: 0.01654, params: {'max_depth': 60, 'max_features': 15, 'n_estimators': 600, 'n_jobs': 5, 'random_state': 0}, mean: -0.14042, std: 0.01660, params: {'max_depth': 60, 'max_features': 15, 'n_estimators': 650, 'n_jobs': 5, 'random_state': 0}, mean: -0.13963, std: 0.01650, params: {'max_depth': 60, 'max_features': 18, 'n_estimators': 500, 'n_jobs': 5, 'random_state': 0}]\n",
      "\n",
      "Time elapsed:  190.80225205421448 sec\n"
     ]
    }
   ],
   "source": [
    "param_grid_RF = {\n",
    "    'max_depth' : np.arange(60, 80, 5),\n",
    "    'max_features' : np.arange(15, 22, 3),\n",
    "    'n_estimators' : np.arange(500, 700, 50),\n",
    "    'n_jobs' : [5],\n",
    "    'random_state' : [0]\n",
    "}\n",
    "\n",
    "RF_best = GridSearch(RF, param_grid_RF, scorer = scorer)"
   ]
  },
  {
   "cell_type": "code",
   "execution_count": 23,
   "metadata": {
    "collapsed": false
   },
   "outputs": [
    {
     "name": "stdout",
     "output_type": "stream",
     "text": [
      "RMSE on test sample:  0.122770734821\n"
     ]
    },
    {
     "data": {
      "image/png": "[encoded data removed]",
      "text/plain": [
       "<matplotlib.figure.Figure at 0x7fd0942769e8>"
      ]
     },
     "metadata": {},
     "output_type": "display_data"
    }
   ],
   "source": [
    "get_score(RF_best)"
   ]
  },
  {
   "cell_type": "markdown",
   "metadata": {},
   "source": [
    "### Gradient Boosting"
   ]
  },
  {
   "cell_type": "markdown",
   "metadata": {},
   "source": [
    "Здесь мы также будем использовать поиск по сетке."
   ]
  },
  {
   "cell_type": "code",
   "execution_count": 24,
   "metadata": {
    "collapsed": false
   },
   "outputs": [
    {
     "name": "stdout",
     "output_type": "stream",
     "text": [
      "Best estimator:\n",
      " GradientBoostingRegressor(alpha=0.59999999999999998, criterion='friedman_mse',\n",
      "             init=None, learning_rate=0.1, loss='ls', max_depth=3,\n",
      "             max_features=20, max_leaf_nodes=None,\n",
      "             min_impurity_split=1e-07, min_samples_leaf=1,\n",
      "             min_samples_split=2, min_weight_fraction_leaf=0.0,\n",
      "             n_estimators=440, presort='auto', random_state=0,\n",
      "             subsample=1.0, verbose=0, warm_start=False)\n",
      "\n",
      "Best score:\n",
      " 0.12717088925265976\n",
      "\n",
      "Scores:\n",
      " [mean: -0.16079, std: 0.01614, params: {'random_state': 0, 'n_estimators': 80, 'max_features': 10, 'max_depth': 1, 'alpha': 0.23000000000000001}, mean: -0.13471, std: 0.01344, params: {'random_state': 0, 'n_estimators': 400, 'max_features': 79, 'max_depth': 3, 'alpha': 0.88}, mean: -0.12717, std: 0.01420, params: {'random_state': 0, 'n_estimators': 440, 'max_features': 20, 'max_depth': 3, 'alpha': 0.59999999999999998}, mean: -0.12900, std: 0.01266, params: {'random_state': 0, 'n_estimators': 510, 'max_features': 40, 'max_depth': 2, 'alpha': 0.90000000000000002}, mean: -0.13349, std: 0.01329, params: {'random_state': 0, 'n_estimators': 540, 'max_features': 60, 'max_depth': 4, 'alpha': 0.77000000000000002}]\n",
      "\n",
      "Time elapsed:  9.972238779067993 sec\n"
     ]
    },
    {
     "data": {
      "text/plain": [
       "GradientBoostingRegressor(alpha=0.59999999999999998, criterion='friedman_mse',\n",
       "             init=None, learning_rate=0.1, loss='ls', max_depth=3,\n",
       "             max_features=20, max_leaf_nodes=None,\n",
       "             min_impurity_split=1e-07, min_samples_leaf=1,\n",
       "             min_samples_split=2, min_weight_fraction_leaf=0.0,\n",
       "             n_estimators=440, presort='auto', random_state=0,\n",
       "             subsample=1.0, verbose=0, warm_start=False)"
      ]
     },
     "execution_count": 24,
     "metadata": {},
     "output_type": "execute_result"
    }
   ],
   "source": [
    "GB = GradientBoostingRegressor()\n",
    "\n",
    "random_param_grid_GB = {\n",
    "    'alpha' : np.arange(0.01, 1.00, 0.01),\n",
    "    'max_depth' : np.arange(1, 5),\n",
    "    'n_estimators' : np.arange(10, 1000, 10),\n",
    "    'max_features' : [10, 20, 40, 60, 79],\n",
    "    'random_state' : [0],\n",
    "}\n",
    "\n",
    "GridSearch(GB, random_param_grid_GB, random_grid = True, scorer = scorer)"
   ]
  },
  {
   "cell_type": "code",
   "execution_count": 25,
   "metadata": {
    "collapsed": false
   },
   "outputs": [
    {
     "name": "stdout",
     "output_type": "stream",
     "text": [
      "Best estimator:\n",
      " GradientBoostingRegressor(alpha=0.10000000000000001, criterion='friedman_mse',\n",
      "             init=None, learning_rate=0.1, loss='ls', max_depth=2,\n",
      "             max_features=15, max_leaf_nodes=None,\n",
      "             min_impurity_split=1e-07, min_samples_leaf=1,\n",
      "             min_samples_split=2, min_weight_fraction_leaf=0.0,\n",
      "             n_estimators=350, presort='auto', random_state=0,\n",
      "             subsample=1.0, verbose=0, warm_start=False)\n",
      "\n",
      "Best score:\n",
      " 0.12557400575390282\n",
      "\n",
      "Scores:\n",
      " [mean: -0.12877, std: 0.01402, params: {'alpha': 0.10000000000000001, 'max_depth': 2, 'max_features': 10, 'n_estimators': 300, 'random_state': 0}, mean: -0.12833, std: 0.01385, params: {'alpha': 0.10000000000000001, 'max_depth': 2, 'max_features': 10, 'n_estimators': 350, 'random_state': 0}, mean: -0.12831, std: 0.01362, params: {'alpha': 0.10000000000000001, 'max_depth': 2, 'max_features': 10, 'n_estimators': 400, 'random_state': 0}, mean: -0.12837, std: 0.01381, params: {'alpha': 0.10000000000000001, 'max_depth': 2, 'max_features': 10, 'n_estimators': 450, 'random_state': 0}, mean: -0.12841, std: 0.01400, params: {'alpha': 0.10000000000000001, 'max_depth': 2, 'max_features': 10, 'n_estimators': 500, 'random_state': 0}]\n",
      "\n",
      "Time elapsed:  249.8248381614685 sec\n"
     ]
    }
   ],
   "source": [
    "param_grid_GB = {\n",
    "    'alpha' : np.arange(0.1, 1.0, 0.1),\n",
    "    'max_depth' : np.arange(2, 4),\n",
    "    'n_estimators' : np.arange(300, 600, 50),\n",
    "    'max_features' : np.arange(10, 30, 5),\n",
    "    'random_state' : [0]\n",
    "}\n",
    "\n",
    "GB_best = GridSearch(GB, param_grid_GB, scorer = scorer)"
   ]
  },
  {
   "cell_type": "code",
   "execution_count": 26,
   "metadata": {
    "collapsed": false
   },
   "outputs": [
    {
     "name": "stdout",
     "output_type": "stream",
     "text": [
      "RMSE on test sample:  0.119906557731\n"
     ]
    },
    {
     "data": {
      "image/png": "[encoded data removed]",
      "text/plain": [
       "<matplotlib.figure.Figure at 0x7fd08fdddcf8>"
      ]
     },
     "metadata": {},
     "output_type": "display_data"
    }
   ],
   "source": [
    "get_score(GB_best)"
   ]
  },
  {
   "cell_type": "markdown",
   "metadata": {},
   "source": [
    "## Предсказание результатов на тестовой выборке"
   ]
  },
  {
   "cell_type": "markdown",
   "metadata": {},
   "source": [
    "Поскольку лучший результат показал Gradient Boosting, мы будем использовать его для формирования результатов на тесте."
   ]
  },
  {
   "cell_type": "markdown",
   "metadata": {},
   "source": [
    "### Загрузка данных"
   ]
  },
  {
   "cell_type": "code",
   "execution_count": 27,
   "metadata": {
    "collapsed": false
   },
   "outputs": [
    {
     "data": {
      "text/html": [
       "<div>\n",
       "<table border=\"1\" class=\"dataframe\">\n",
       "  <thead>\n",
       "    <tr style=\"text-align: right;\">\n",
       "      <th></th>\n",
       "      <th>MSSubClass</th>\n",
       "      <th>MSZoning</th>\n",
       "      <th>LotFrontage</th>\n",
       "      <th>LotArea</th>\n",
       "      <th>Street</th>\n",
       "      <th>Alley</th>\n",
       "      <th>LotShape</th>\n",
       "      <th>LandContour</th>\n",
       "      <th>Utilities</th>\n",
       "      <th>LotConfig</th>\n",
       "      <th>...</th>\n",
       "      <th>ScreenPorch</th>\n",
       "      <th>PoolArea</th>\n",
       "      <th>PoolQC</th>\n",
       "      <th>Fence</th>\n",
       "      <th>MiscFeature</th>\n",
       "      <th>MiscVal</th>\n",
       "      <th>MoSold</th>\n",
       "      <th>YrSold</th>\n",
       "      <th>SaleType</th>\n",
       "      <th>SaleCondition</th>\n",
       "    </tr>\n",
       "    <tr>\n",
       "      <th>Id</th>\n",
       "      <th></th>\n",
       "      <th></th>\n",
       "      <th></th>\n",
       "      <th></th>\n",
       "      <th></th>\n",
       "      <th></th>\n",
       "      <th></th>\n",
       "      <th></th>\n",
       "      <th></th>\n",
       "      <th></th>\n",
       "      <th></th>\n",
       "      <th></th>\n",
       "      <th></th>\n",
       "      <th></th>\n",
       "      <th></th>\n",
       "      <th></th>\n",
       "      <th></th>\n",
       "      <th></th>\n",
       "      <th></th>\n",
       "      <th></th>\n",
       "      <th></th>\n",
       "    </tr>\n",
       "  </thead>\n",
       "  <tbody>\n",
       "    <tr>\n",
       "      <th>1461</th>\n",
       "      <td>20</td>\n",
       "      <td>RH</td>\n",
       "      <td>80.0</td>\n",
       "      <td>11622</td>\n",
       "      <td>Pave</td>\n",
       "      <td>NaN</td>\n",
       "      <td>Reg</td>\n",
       "      <td>Lvl</td>\n",
       "      <td>AllPub</td>\n",
       "      <td>Inside</td>\n",
       "      <td>...</td>\n",
       "      <td>120</td>\n",
       "      <td>0</td>\n",
       "      <td>NaN</td>\n",
       "      <td>MnPrv</td>\n",
       "      <td>NaN</td>\n",
       "      <td>0</td>\n",
       "      <td>6</td>\n",
       "      <td>2010</td>\n",
       "      <td>WD</td>\n",
       "      <td>Normal</td>\n",
       "    </tr>\n",
       "    <tr>\n",
       "      <th>1462</th>\n",
       "      <td>20</td>\n",
       "      <td>RL</td>\n",
       "      <td>81.0</td>\n",
       "      <td>14267</td>\n",
       "      <td>Pave</td>\n",
       "      <td>NaN</td>\n",
       "      <td>IR1</td>\n",
       "      <td>Lvl</td>\n",
       "      <td>AllPub</td>\n",
       "      <td>Corner</td>\n",
       "      <td>...</td>\n",
       "      <td>0</td>\n",
       "      <td>0</td>\n",
       "      <td>NaN</td>\n",
       "      <td>NaN</td>\n",
       "      <td>Gar2</td>\n",
       "      <td>12500</td>\n",
       "      <td>6</td>\n",
       "      <td>2010</td>\n",
       "      <td>WD</td>\n",
       "      <td>Normal</td>\n",
       "    </tr>\n",
       "  </tbody>\n",
       "</table>\n",
       "<p>2 rows × 79 columns</p>\n",
       "</div>"
      ],
      "text/plain": [
       "      MSSubClass MSZoning  LotFrontage  LotArea Street Alley LotShape  \\\n",
       "Id                                                                      \n",
       "1461          20       RH         80.0    11622   Pave   NaN      Reg   \n",
       "1462          20       RL         81.0    14267   Pave   NaN      IR1   \n",
       "\n",
       "     LandContour Utilities LotConfig      ...       ScreenPorch PoolArea  \\\n",
       "Id                                        ...                              \n",
       "1461         Lvl    AllPub    Inside      ...               120        0   \n",
       "1462         Lvl    AllPub    Corner      ...                 0        0   \n",
       "\n",
       "     PoolQC  Fence MiscFeature MiscVal  MoSold  YrSold  SaleType  \\\n",
       "Id                                                                 \n",
       "1461    NaN  MnPrv         NaN       0       6    2010        WD   \n",
       "1462    NaN    NaN        Gar2   12500       6    2010        WD   \n",
       "\n",
       "      SaleCondition  \n",
       "Id                   \n",
       "1461         Normal  \n",
       "1462         Normal  \n",
       "\n",
       "[2 rows x 79 columns]"
      ]
     },
     "execution_count": 27,
     "metadata": {},
     "output_type": "execute_result"
    }
   ],
   "source": [
    "data_test = pd.read_csv('test.csv', index_col = 'Id')\n",
    "data_test[:2]"
   ]
  },
  {
   "cell_type": "markdown",
   "metadata": {},
   "source": [
    "### Предобработка данных"
   ]
  },
  {
   "cell_type": "markdown",
   "metadata": {},
   "source": [
    "#### Заполнение пропусков"
   ]
  },
  {
   "cell_type": "code",
   "execution_count": 28,
   "metadata": {
    "collapsed": false
   },
   "outputs": [
    {
     "name": "stdout",
     "output_type": "stream",
     "text": [
      "Number of missing values in columns:\n",
      "MSZoning :  4\n",
      "LotFrontage :  227\n",
      "Alley :  1352\n",
      "Utilities :  2\n",
      "Exterior1st :  1\n",
      "Exterior2nd :  1\n",
      "MasVnrType :  16\n",
      "MasVnrArea :  15\n",
      "BsmtQual :  44\n",
      "BsmtCond :  45\n",
      "BsmtExposure :  44\n",
      "BsmtFinType1 :  42\n",
      "BsmtFinSF1 :  1\n",
      "BsmtFinType2 :  42\n",
      "BsmtFinSF2 :  1\n",
      "BsmtUnfSF :  1\n",
      "TotalBsmtSF :  1\n",
      "BsmtFullBath :  2\n",
      "BsmtHalfBath :  2\n",
      "KitchenQual :  1\n",
      "Functional :  2\n",
      "FireplaceQu :  730\n",
      "GarageType :  76\n",
      "GarageYrBlt :  78\n",
      "GarageFinish :  78\n",
      "GarageCars :  1\n",
      "GarageArea :  1\n",
      "GarageQual :  78\n",
      "GarageCond :  78\n",
      "PoolQC :  1456\n",
      "Fence :  1169\n",
      "MiscFeature :  1408\n",
      "SaleType :  1\n"
     ]
    }
   ],
   "source": [
    "print('Number of missing values in columns:')\n",
    "for i in range(0, len(data_test.columns)):\n",
    "    if data_test.ix[:, i].isnull().sum() != 0:\n",
    "        print (data_test.columns[i], ': ', data_test.ix[:, i].isnull().sum())"
   ]
  },
  {
   "cell_type": "code",
   "execution_count": 29,
   "metadata": {
    "collapsed": false
   },
   "outputs": [
    {
     "data": {
      "text/plain": [
       "False"
      ]
     },
     "execution_count": 29,
     "metadata": {},
     "output_type": "execute_result"
    }
   ],
   "source": [
    "data_test[categorical_cols].fillna('Null')\n",
    "X_cat_test_sample = pd.DataFrame(data_test[categorical_cols].applymap(str))\n",
    "X_cat_test_sample.isnull().values.any()"
   ]
  },
  {
   "cell_type": "code",
   "execution_count": 30,
   "metadata": {
    "collapsed": false
   },
   "outputs": [
    {
     "data": {
      "text/plain": [
       "False"
      ]
     },
     "execution_count": 30,
     "metadata": {},
     "output_type": "execute_result"
    }
   ],
   "source": [
    "X_num_test_sample = pd.DataFrame(columns = numeric_cols)\n",
    "for i in range(0, len(data_test[numeric_cols].columns)):\n",
    "    X_num_test_sample.ix[:, i] = data_test[numeric_cols].ix[:, i].fillna(data_test[numeric_cols].ix[:, i].median())\n",
    "X_num_test_sample.isnull().values.any()"
   ]
  },
  {
   "cell_type": "markdown",
   "metadata": {},
   "source": [
    "#### Кодирование категориальных признаков"
   ]
  },
  {
   "cell_type": "code",
   "execution_count": 31,
   "metadata": {
    "collapsed": false
   },
   "outputs": [
    {
     "name": "stdout",
     "output_type": "stream",
     "text": [
      "CPU times: user 1min 29s, sys: 192 ms, total: 1min 30s\n",
      "Wall time: 1min 29s\n"
     ]
    }
   ],
   "source": [
    "%%time\n",
    "X_cat_train_sample_encoded, map_train_final = cat_encode_fit_transform(X_cat, y)"
   ]
  },
  {
   "cell_type": "code",
   "execution_count": 32,
   "metadata": {
    "collapsed": false
   },
   "outputs": [
    {
     "name": "stdout",
     "output_type": "stream",
     "text": [
      "CPU times: user 1min 32s, sys: 332 ms, total: 1min 32s\n",
      "Wall time: 1min 31s\n"
     ]
    }
   ],
   "source": [
    "%%time\n",
    "X_cat_test_sample_encoded, map_test_final = cat_encode_transform(X_cat_test_sample, map_train_final)"
   ]
  },
  {
   "cell_type": "markdown",
   "metadata": {},
   "source": [
    "#### Формирование итоговых обучающей и тестовой выборок"
   ]
  },
  {
   "cell_type": "code",
   "execution_count": 33,
   "metadata": {
    "collapsed": false
   },
   "outputs": [],
   "source": [
    "X_train_sample = np.hstack([X_num, X_cat_train_sample_encoded])\n",
    "X_test_sample = np.hstack([X_num_test_sample, X_cat_test_sample_encoded])"
   ]
  },
  {
   "cell_type": "markdown",
   "metadata": {},
   "source": [
    "### Обучение моделей"
   ]
  },
  {
   "cell_type": "code",
   "execution_count": 34,
   "metadata": {
    "collapsed": false
   },
   "outputs": [
    {
     "data": {
      "text/plain": [
       "<matplotlib.text.Text at 0x7fd08f689400>"
      ]
     },
     "execution_count": 34,
     "metadata": {},
     "output_type": "execute_result"
    },
    {
     "data": {
      "image/png": "[encoded data removed]",
      "text/plain": [
       "<matplotlib.figure.Figure at 0x7fd08fdc49e8>"
      ]
     },
     "metadata": {},
     "output_type": "display_data"
    }
   ],
   "source": [
    "GB_best.fit(X_train_sample, y)\n",
    "predictions = GB_best.predict(X_test_sample)\n",
    "answers = np.exp(predictions)\n",
    "\n",
    "plt.figure(figsize = (15, 5))\n",
    "\n",
    "plt.subplot(1, 2, 1)\n",
    "sns.distplot(predictions, bins = 50, color = 'g')\n",
    "plt.title('Natural Log of Data')\n",
    "plt.xlabel('Natural Log of Predicted Sales Price')\n",
    "\n",
    "plt.subplot(1, 2, 2)\n",
    "sns.distplot(answers, bins = 50)\n",
    "plt.title('Original Data')\n",
    "plt.xlabel('Predicted Sales Price')"
   ]
  },
  {
   "cell_type": "markdown",
   "metadata": {},
   "source": [
    "Распределения целевой переменной и логарифма на тесте выглядят аналогично обучающей выборке. Это, конечно, не строгая оценка, но тем не менее в какой-то мере исключает грубые ошибки."
   ]
  },
  {
   "cell_type": "markdown",
   "metadata": {},
   "source": [
    "### Экспорт данных"
   ]
  },
  {
   "cell_type": "code",
   "execution_count": 35,
   "metadata": {
    "collapsed": true
   },
   "outputs": [],
   "source": [
    "pd.DataFrame(answers, index = data_test.index, columns = ['SalePrice']).to_csv('answers_GB')"
   ]
  }
 ],
 "metadata": {
  "kernelspec": {
   "display_name": "Python 3",
   "language": "python",
   "name": "python3"
  },
  "language_info": {
   "codemirror_mode": {
    "name": "ipython",
    "version": 3
   },
   "file_extension": ".py",
   "mimetype": "text/x-python",
   "name": "python",
   "nbconvert_exporter": "python",
   "pygments_lexer": "ipython3",
   "version": "3.6.0"
  }
 },
 "nbformat": 4,
 "nbformat_minor": 2
}
